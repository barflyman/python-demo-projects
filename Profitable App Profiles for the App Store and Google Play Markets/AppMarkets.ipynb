{
 "cells": [
  {
   "cell_type": "markdown",
   "metadata": {},
   "source": [
    "# Appstore data analyzes\n",
    "\n",
    "**This project analyzes the user engagement with free downloadable apps. The revenues are generates by in-app ads only. The goal of this analyzes is to understand, what type of app generates the most revenues.**"
   ]
  },
  {
   "cell_type": "code",
   "execution_count": 1,
   "metadata": {
    "collapsed": false
   },
   "outputs": [
    {
     "name": "stdout",
     "output_type": "stream",
     "text": [
      "['284882215', 'Facebook', '389879808', 'USD', '0.0', '2974676', '212', '3.5', '3.5', '95.0', '4+', 'Social Networking', '37', '1', '29', '1']\n",
      "\n",
      "\n",
      "['389801252', 'Instagram', '113954816', 'USD', '0.0', '2161558', '1289', '4.5', '4.0', '10.23', '12+', 'Photo & Video', '37', '0', '29', '1']\n",
      "\n",
      "\n",
      "['529479190', 'Clash of Clans', '116476928', 'USD', '0.0', '2130805', '579', '4.5', '4.5', '9.24.12', '9+', 'Games', '38', '5', '18', '1']\n",
      "\n",
      "\n",
      "Number of rows: 7198\n",
      "Number of columns: 16\n",
      "['Photo Editor & Candy Camera & Grid & ScrapBook', 'ART_AND_DESIGN', '4.1', '159', '19M', '10,000+', 'Free', '0', 'Everyone', 'Art & Design', 'January 7, 2018', '1.0.0', '4.0.3 and up']\n",
      "\n",
      "\n",
      "['Coloring book moana', 'ART_AND_DESIGN', '3.9', '967', '14M', '500,000+', 'Free', '0', 'Everyone', 'Art & Design;Pretend Play', 'January 15, 2018', '2.0.0', '4.0.3 and up']\n",
      "\n",
      "\n",
      "['U Launcher Lite – FREE Live Cool Themes, Hide Apps', 'ART_AND_DESIGN', '4.7', '87510', '8.7M', '5,000,000+', 'Free', '0', 'Everyone', 'Art & Design', 'August 1, 2018', '1.2.4', '4.0.3 and up']\n",
      "\n",
      "\n",
      "Number of rows: 10842\n",
      "Number of columns: 13\n",
      "['id', 'track_name', 'size_bytes', 'currency', 'price', 'rating_count_tot', 'rating_count_ver', 'user_rating', 'user_rating_ver', 'ver', 'cont_rating', 'prime_genre', 'sup_devices.num', 'ipadSc_urls.num', 'lang.num', 'vpp_lic']\n",
      "\n",
      "\n",
      "['App', 'Category', 'Rating', 'Reviews', 'Size', 'Installs', 'Type', 'Price', 'Content Rating', 'Genres', 'Last Updated', 'Current Ver', 'Android Ver']\n",
      "\n",
      "\n",
      "['Command & Conquer: Rivals', 'FAMILY', 'NaN', '0', 'Varies with device', '0', 'NaN', '0', 'Everyone 10+', 'Strategy', 'June 28, 2018', 'Varies with device', 'Varies with device']\n",
      "Index: 9149\n"
     ]
    }
   ],
   "source": [
    "from csv import reader\n",
    "apple_opened_file  = open('AppleStore.csv', encoding = 'utf8')\n",
    "google_opened_file = open('googleplaystore.csv', encoding = 'utf8')\n",
    "apple_readfile = reader (apple_opened_file)\n",
    "apple_apps_data = list (apple_readfile)\n",
    "google_readfile  = reader (google_opened_file)\n",
    "google_apps_data = list (google_readfile)\n",
    "index = 0\n",
    "\n",
    "def explore_data(dataset, start, end, rows_and_columns=False):\n",
    "    dataset_slice = dataset[start:end]    \n",
    "    for row in dataset_slice:\n",
    "        print(row)\n",
    "        print('\\n') # adds a new (empty) line after each row\n",
    "\n",
    "    if rows_and_columns:\n",
    "        print('Number of rows:', len(dataset))\n",
    "        print('Number of columns:', len(dataset[0]))\n",
    "        \n",
    "explore_data(apple_apps_data,1,4,True)        \n",
    "explore_data(google_apps_data,1,4,True)\n",
    "\n",
    "explore_data(apple_apps_data,0,1)  \n",
    "explore_data(google_apps_data,0,1)\n",
    "\n",
    "for row in google_apps_data[1:]:\n",
    "    index += 1\n",
    "    if row[6] == 'NaN':\n",
    "        print(row)\n",
    "        print('Index: ' + str(index))\n",
    "        found_index = index\n",
    "        \n",
    "\n",
    "        \n",
    "del google_apps_data[found_index]\n",
    "        \n"
   ]
  },
  {
   "cell_type": "markdown",
   "metadata": {},
   "source": [
    "**We have to remove duplicate Data before we can proceed with the analyze**\n",
    "\n",
    "Let's check for example the Instagram App:"
   ]
  },
  {
   "cell_type": "code",
   "execution_count": 2,
   "metadata": {
    "collapsed": false
   },
   "outputs": [
    {
     "name": "stdout",
     "output_type": "stream",
     "text": [
      "['Instagram', 'SOCIAL', '4.5', '66577313', 'Varies with device', '1,000,000,000+', 'Free', '0', 'Teen', 'Social', 'July 31, 2018', 'Varies with device', 'Varies with device']\n",
      "['Instagram', 'SOCIAL', '4.5', '66577446', 'Varies with device', '1,000,000,000+', 'Free', '0', 'Teen', 'Social', 'July 31, 2018', 'Varies with device', 'Varies with device']\n",
      "['Instagram', 'SOCIAL', '4.5', '66577313', 'Varies with device', '1,000,000,000+', 'Free', '0', 'Teen', 'Social', 'July 31, 2018', 'Varies with device', 'Varies with device']\n",
      "['Instagram', 'SOCIAL', '4.5', '66509917', 'Varies with device', '1,000,000,000+', 'Free', '0', 'Teen', 'Social', 'July 31, 2018', 'Varies with device', 'Varies with device']\n"
     ]
    }
   ],
   "source": [
    "for row in google_apps_data[1:]:\n",
    "    if row[0] == 'Instagram':\n",
    "        print(row)       "
   ]
  },
  {
   "cell_type": "code",
   "execution_count": 3,
   "metadata": {
    "collapsed": false
   },
   "outputs": [
    {
     "name": "stdout",
     "output_type": "stream",
     "text": [
      "Number of duplicated entries:  1181\n"
     ]
    }
   ],
   "source": [
    "duplicated_entries = []\n",
    "unique_entries = []\n",
    "\n",
    "for row in google_apps_data[1:]:\n",
    "    if row[0] in unique_entries:\n",
    "        duplicated_entries.append(row[0])\n",
    "    else:\n",
    "        unique_entries.append(row[0])\n",
    "        \n",
    "print('Number of duplicated entries: ', len(duplicated_entries))"
   ]
  },
  {
   "cell_type": "markdown",
   "metadata": {},
   "source": [
    "**The duplicated entries will not be removed randomly. To ensure a better quality of the outcome process, we will use the most recent app data for duplicates. This means, the app with the highest number of reviews will remain, which is the most recent review.**"
   ]
  },
  {
   "cell_type": "markdown",
   "metadata": {},
   "source": [
    "**Now we will create a dictionary which is filled by the app title and the corresponding review counts.**"
   ]
  },
  {
   "cell_type": "code",
   "execution_count": 4,
   "metadata": {
    "collapsed": false
   },
   "outputs": [
    {
     "name": "stdout",
     "output_type": "stream",
     "text": [
      "\n",
      " 9658 \n",
      "\n"
     ]
    }
   ],
   "source": [
    "reviews_max = {}\n",
    "\n",
    "# We need to delete a row where the review number is actually a string\n",
    "del google_apps_data[10472]\n",
    "\n",
    "for row in google_apps_data[1:]:\n",
    "    name = row[0]\n",
    "    n_reviews = float(row[3])\n",
    "    if name in reviews_max and reviews_max[name] < n_reviews or name not in reviews_max:\n",
    "        reviews_max[name] = n_reviews\n",
    "print('\\n', len(reviews_max), '\\n')"
   ]
  },
  {
   "cell_type": "markdown",
   "metadata": {},
   "source": [
    "**Here we will remove the duplicated rows by using two lists. One stores the cleaned dataset and the other list stores the app titles for tracking.**"
   ]
  },
  {
   "cell_type": "code",
   "execution_count": 5,
   "metadata": {
    "collapsed": false
   },
   "outputs": [
    {
     "name": "stdout",
     "output_type": "stream",
     "text": [
      "['Instagram', 'SOCIAL', '4.5', '66577446', 'Varies with device', '1,000,000,000+', 'Free', '0', 'Teen', 'Social', 'July 31, 2018', 'Varies with device', 'Varies with device']\n",
      "Number unique of apps:\n",
      " 9658\n"
     ]
    }
   ],
   "source": [
    "android_clean = []\n",
    "already_added = []\n",
    "\n",
    "for row in google_apps_data[1:]:\n",
    "    name = row[0]\n",
    "    n_reviews = float(row[3])\n",
    "    if n_reviews == reviews_max[name] and name not in already_added:\n",
    "        android_clean.append(row)\n",
    "        already_added.append(name)\n",
    "\n",
    "# Test print\n",
    "for row in android_clean:\n",
    "    if row[0] == 'Instagram':\n",
    "        print(row)\n",
    "        \n",
    "print('Number unique of apps:\\n', len(android_clean))\n",
    "\n",
    "\n",
    "        \n",
    "    "
   ]
  },
  {
   "cell_type": "markdown",
   "metadata": {},
   "source": [
    "**This step is needed to detect non-English characters by parsing the ASCII code, which should not exceeding 127. 3 Special characters are allowed. In a new list all non-English apps are filtered out.**"
   ]
  },
  {
   "cell_type": "code",
   "execution_count": 6,
   "metadata": {
    "collapsed": false
   },
   "outputs": [
    {
     "name": "stdout",
     "output_type": "stream",
     "text": [
      "Instagram  True\n",
      "爱奇艺PPS -《欢乐颂2》电视剧热播  False\n",
      "Docs To Go™ Free Office Suite  True\n",
      "Instachat 😜  True\n",
      "Number of English apps:\n",
      " 9613\n"
     ]
    }
   ],
   "source": [
    "def check_apptitle(title):\n",
    "    counter = 0\n",
    "    for char in title:\n",
    "        if ord(char) > 127:\n",
    "            counter += 1\n",
    "            if counter > 3:\n",
    "                return False\n",
    "    return True    \n",
    "     \n",
    "print ('Instagram ', check_apptitle('Instagram'))\n",
    "print ('爱奇艺PPS -《欢乐颂2》电视剧热播 ', check_apptitle('爱奇艺PPS -《欢乐颂2》电视剧热播'))\n",
    "print ('Docs To Go™ Free Office Suite ', check_apptitle('Docs To Go™ Free Office Suite'))\n",
    "print ('Instachat 😜 ', check_apptitle('Instachat 😜'))\n",
    "\n",
    "english_apps = []\n",
    "\n",
    "for row in android_clean:\n",
    "    if check_apptitle(row[0]):\n",
    "        english_apps.append(row)\n",
    "        \n",
    "print('Number of English apps:\\n', len(english_apps))"
   ]
  },
  {
   "cell_type": "markdown",
   "metadata": {},
   "source": [
    "**We will isolate free apps in a new dataset**"
   ]
  },
  {
   "cell_type": "code",
   "execution_count": 7,
   "metadata": {
    "collapsed": false
   },
   "outputs": [
    {
     "name": "stdout",
     "output_type": "stream",
     "text": [
      "Number of free apps:\n",
      " 8863\n"
     ]
    }
   ],
   "source": [
    "free_apps = []\n",
    "for row in english_apps:\n",
    "    if row[6] == 'Free':\n",
    "        free_apps.append(row)\n",
    "\n",
    "print('Number of free apps:\\n', len(free_apps))    \n",
    "    "
   ]
  },
  {
   "cell_type": "markdown",
   "metadata": {},
   "source": [
    "**We want to isolate minimal Android apps with a good response by the users and a profitabilty after six months. AFter this, and iOS can be build and added to the App Store.**"
   ]
  },
  {
   "cell_type": "code",
   "execution_count": 8,
   "metadata": {
    "collapsed": false
   },
   "outputs": [
    {
     "name": "stdout",
     "output_type": "stream",
     "text": [
      "\n",
      " Playstore Category:\n",
      "FAMILY : 1971\n",
      "GAME : 1144\n",
      "TOOLS : 843\n",
      "MEDICAL : 463\n",
      "BUSINESS : 460\n",
      "PRODUCTIVITY : 424\n",
      "PERSONALIZATION : 392\n",
      "COMMUNICATION : 387\n",
      "SPORTS : 384\n",
      "LIFESTYLE : 382\n",
      "FINANCE : 366\n",
      "HEALTH_AND_FITNESS : 341\n",
      "PHOTOGRAPHY : 335\n",
      "SOCIAL : 295\n",
      "NEWS_AND_MAGAZINES : 283\n",
      "SHOPPING : 260\n",
      "TRAVEL_AND_LOCAL : 258\n",
      "DATING : 234\n",
      "BOOKS_AND_REFERENCE : 231\n",
      "VIDEO_PLAYERS : 175\n",
      "EDUCATION : 156\n",
      "ENTERTAINMENT : 149\n",
      "MAPS_AND_NAVIGATION : 137\n",
      "FOOD_AND_DRINK : 127\n",
      "HOUSE_AND_HOME : 88\n",
      "LIBRARIES_AND_DEMO : 85\n",
      "AUTO_AND_VEHICLES : 85\n",
      "WEATHER : 82\n",
      "ART_AND_DESIGN : 65\n",
      "EVENTS : 64\n",
      "PARENTING : 60\n",
      "COMICS : 60\n",
      "BEAUTY : 53\n",
      "Category : 1\n",
      "\n",
      " Playstore Genres:\n",
      "Tools : 842\n",
      "Entertainment : 623\n",
      "Education : 549\n",
      "Medical : 463\n",
      "Business : 460\n",
      "Productivity : 424\n",
      "Sports : 398\n",
      "Personalization : 392\n",
      "Communication : 387\n",
      "Lifestyle : 381\n",
      "Finance : 366\n",
      "Action : 365\n",
      "Health & Fitness : 341\n",
      "Photography : 335\n",
      "Social : 295\n",
      "News & Magazines : 283\n",
      "Shopping : 260\n",
      "Travel & Local : 257\n",
      "Dating : 234\n",
      "Books & Reference : 231\n",
      "Arcade : 220\n",
      "Simulation : 200\n",
      "Casual : 193\n",
      "Video Players & Editors : 173\n",
      "Puzzle : 140\n",
      "Maps & Navigation : 137\n",
      "Food & Drink : 127\n",
      "Role Playing : 109\n",
      "Strategy : 106\n",
      "Racing : 98\n",
      "House & Home : 88\n",
      "Libraries & Demo : 85\n",
      "Auto & Vehicles : 85\n",
      "Weather : 82\n",
      "Adventure : 75\n",
      "Events : 64\n",
      "Comics : 59\n",
      "Art & Design : 58\n",
      "Beauty : 53\n",
      "Education;Education : 50\n",
      "Card : 48\n",
      "Parenting : 46\n",
      "Board : 44\n",
      "Educational;Education : 41\n",
      "Casino : 39\n",
      "Trivia : 38\n",
      "Educational : 37\n",
      "Casual;Pretend Play : 31\n",
      "Word : 29\n",
      "Entertainment;Music & Video : 27\n",
      "Education;Pretend Play : 23\n",
      "Music : 22\n",
      "Casual;Action & Adventure : 21\n",
      "Racing;Action & Adventure : 20\n",
      "Puzzle;Brain Games : 19\n",
      "Educational;Pretend Play : 19\n",
      "Action;Action & Adventure : 17\n",
      "Arcade;Action & Adventure : 16\n",
      "Board;Brain Games : 15\n",
      "Casual;Brain Games : 13\n",
      "Adventure;Action & Adventure : 13\n",
      "Simulation;Action & Adventure : 11\n",
      "Entertainment;Brain Games : 8\n",
      "Role Playing;Action & Adventure : 7\n",
      "Parenting;Education : 7\n",
      "Education;Creativity : 7\n",
      "Casual;Creativity : 7\n",
      "Art & Design;Creativity : 7\n",
      "Parenting;Music & Video : 6\n",
      "Educational;Brain Games : 6\n",
      "Education;Action & Adventure : 6\n",
      "Role Playing;Pretend Play : 5\n",
      "Puzzle;Action & Adventure : 5\n",
      "Educational;Creativity : 5\n",
      "Education;Music & Video : 5\n",
      "Education;Brain Games : 5\n",
      "Sports;Action & Adventure : 4\n",
      "Simulation;Pretend Play : 4\n",
      "Educational;Action & Adventure : 4\n",
      "Video Players & Editors;Music & Video : 3\n",
      "Simulation;Education : 3\n",
      "Music;Music & Video : 3\n",
      "Entertainment;Creativity : 3\n",
      "Entertainment;Action & Adventure : 3\n",
      "Casual;Education : 3\n",
      "Board;Action & Adventure : 3\n",
      "Video Players & Editors;Creativity : 2\n",
      "Strategy;Action & Adventure : 2\n",
      "Puzzle;Creativity : 2\n",
      "Entertainment;Pretend Play : 2\n",
      "Casual;Music & Video : 2\n",
      "Card;Action & Adventure : 2\n",
      "Books & Reference;Education : 2\n",
      "Art & Design;Pretend Play : 2\n",
      "Art & Design;Action & Adventure : 2\n",
      "Adventure;Education : 2\n",
      "Trivia;Education : 1\n",
      "Travel & Local;Action & Adventure : 1\n",
      "Tools;Education : 1\n",
      "Strategy;Education : 1\n",
      "Strategy;Creativity : 1\n",
      "Role Playing;Education : 1\n",
      "Role Playing;Brain Games : 1\n",
      "Racing;Pretend Play : 1\n",
      "Puzzle;Education : 1\n",
      "Parenting;Brain Games : 1\n",
      "Music & Audio;Music & Video : 1\n",
      "Lifestyle;Pretend Play : 1\n",
      "Lifestyle;Education : 1\n",
      "Health & Fitness;Education : 1\n",
      "Health & Fitness;Action & Adventure : 1\n",
      "Genres : 1\n",
      "Entertainment;Education : 1\n",
      "Communication;Creativity : 1\n",
      "Comics;Creativity : 1\n",
      "Card;Brain Games : 1\n",
      "Books & Reference;Creativity : 1\n",
      "Board;Pretend Play : 1\n",
      "Arcade;Pretend Play : 1\n",
      "Adventure;Brain Games : 1\n",
      "\n",
      " App Store prime_genre:\n",
      "Games : 3862\n",
      "Entertainment : 535\n",
      "Education : 453\n",
      "Photo & Video : 349\n",
      "Utilities : 248\n",
      "Health & Fitness : 180\n",
      "Productivity : 178\n",
      "Social Networking : 167\n",
      "Lifestyle : 144\n",
      "Music : 138\n",
      "Shopping : 122\n",
      "Sports : 114\n",
      "Book : 112\n",
      "Finance : 104\n",
      "Travel : 81\n",
      "News : 75\n",
      "Weather : 72\n",
      "Reference : 64\n",
      "Food & Drink : 63\n",
      "Business : 57\n",
      "Navigation : 46\n",
      "Medical : 23\n",
      "Catalogs : 10\n",
      "prime_genre : 1\n"
     ]
    }
   ],
   "source": [
    "def freq_table (dataset, index):\n",
    "    freq_tb = {}\n",
    "    for row in dataset:\n",
    "        if row[index] in freq_tb:\n",
    "            freq_tb[row[index]] += 1\n",
    "        else:\n",
    "            freq_tb[row[index]] = 1\n",
    "    return freq_tb\n",
    "\n",
    "def display_table(dataset, index):\n",
    "    table = freq_table(dataset, index)\n",
    "    table_display = []\n",
    "    for key in table:\n",
    "        key_val_as_tuple = (table[key], key)\n",
    "        table_display.append(key_val_as_tuple)\n",
    "\n",
    "    table_sorted = sorted(table_display, reverse = True)\n",
    "    for entry in table_sorted:\n",
    "        print(entry[1], ':', entry[0])\n",
    "        \n",
    "print ('\\n Playstore Category:')\n",
    "display_table(google_apps_data,1)   \n",
    "print ('\\n Playstore Genres:')\n",
    "display_table(google_apps_data,9)  \n",
    "print ('\\n App Store prime_genre:')\n",
    "display_table(apple_apps_data,11) \n",
    "       \n",
    "       "
   ]
  },
  {
   "cell_type": "markdown",
   "metadata": {},
   "source": [
    "**In this step we will count the install per genre for the app store to estimate the popularity for each app. We will use the total ratings per app as a proxy for the installs.**"
   ]
  },
  {
   "cell_type": "code",
   "execution_count": 30,
   "metadata": {
    "collapsed": false
   },
   "outputs": [
    {
     "name": "stdout",
     "output_type": "stream",
     "text": [
      "Average number of ratings for Music is 28842\n",
      "Average number of ratings for Photo & Video is 14352\n",
      "Average number of ratings for Reference is 22410\n",
      "Average number of ratings for Entertainment is 7533\n",
      "Average number of ratings for Social Networking is 45498\n",
      "Average number of ratings for News is 13015\n",
      "Average number of ratings for Travel is 14129\n",
      "Average number of ratings for Sports is 14026\n",
      "Average number of ratings for Productivity is 8051\n",
      "Average number of ratings for Education is 2239\n",
      "Average number of ratings for Finance is 11047\n",
      "Average number of ratings for Business is 4788\n",
      "Average number of ratings for Health & Fitness is 9913\n",
      "Average number of ratings for Games is 13691\n",
      "Average number of ratings for Food & Drink is 13938\n",
      "Average number of ratings for Utilities is 6863\n",
      "Average number of ratings for Book is 5125\n",
      "Average number of ratings for Navigation is 11853\n",
      "Average number of ratings for Weather is 22181\n",
      "Average number of ratings for Catalogs is 1732\n",
      "Average number of ratings for Shopping is 18615\n",
      "Average number of ratings for Lifestyle is 6161\n",
      "Average number of ratings for Medical is 592\n",
      "\n",
      "Most popular app by genre is recommendet for Social Networking\n"
     ]
    }
   ],
   "source": [
    "freq_prime_genre = {}\n",
    "installs_per_genre = {}\n",
    "freq_prime_genre = freq_table (apple_apps_data[1:],11)\n",
    "\n",
    "for genre in freq_prime_genre:\n",
    "    total = 0\n",
    "    len_genre = 0\n",
    "    for row in apple_apps_data[1:]:\n",
    "        genre_app = row[11]\n",
    "        if genre_app == genre:\n",
    "            total += float(row[5])\n",
    "            len_genre += 1\n",
    "    avg_rating = total / len_genre\n",
    "    installs_per_genre[genre] = int(avg_rating)\n",
    "    print ('Average number of ratings for',genre,'is', int(avg_rating))\n",
    "    \n",
    "print ('\\nMost popular app by genre is recommendet for', max(installs_per_genre, key = installs_per_genre.get))\n",
    "        "
   ]
  },
  {
   "cell_type": "markdown",
   "metadata": {},
   "source": [
    "**Now we use the installs / app for the playstore as a feature for popularity of category.**"
   ]
  },
  {
   "cell_type": "code",
   "execution_count": 35,
   "metadata": {
    "collapsed": false
   },
   "outputs": [
    {
     "name": "stdout",
     "output_type": "stream",
     "text": [
      "Average number of installs for MAPS_AND_NAVIGATION is 5286729\n",
      "Average number of installs for EVENTS is 249580\n",
      "Average number of installs for COMICS is 934769\n",
      "Average number of installs for GAME is 30669601\n",
      "Average number of installs for HEALTH_AND_FITNESS is 4642441\n",
      "Average number of installs for LIFESTYLE is 1407443\n",
      "Average number of installs for SHOPPING is 12491726\n",
      "Average number of installs for LIBRARIES_AND_DEMO is 741128\n",
      "Average number of installs for ENTERTAINMENT is 19256107\n",
      "Average number of installs for PARENTING is 525351\n",
      "Average number of installs for FAMILY is 5204598\n",
      "Average number of installs for NEWS_AND_MAGAZINES is 26488755\n",
      "Average number of installs for PERSONALIZATION is 5932384\n",
      "Average number of installs for TOOLS is 13585731\n",
      "Average number of installs for TRAVEL_AND_LOCAL is 26623593\n",
      "Average number of installs for VIDEO_PLAYERS is 35554301\n",
      "Average number of installs for BEAUTY is 513151\n",
      "Average number of installs for FOOD_AND_DRINK is 2156683\n",
      "Average number of installs for WEATHER is 5196347\n",
      "Average number of installs for SPORTS is 4560350\n",
      "Average number of installs for MEDICAL is 115026\n",
      "Average number of installs for SOCIAL is 47694467\n",
      "Average number of installs for HOUSE_AND_HOME is 1917187\n",
      "Average number of installs for AUTO_AND_VEHICLES is 625061\n",
      "Average number of installs for PRODUCTIVITY is 33434177\n",
      "Average number of installs for EDUCATION is 5586230\n",
      "Average number of installs for COMMUNICATION is 84359886\n",
      "Average number of installs for BUSINESS is 2178075\n",
      "Average number of installs for FINANCE is 2395215\n",
      "Average number of installs for DATING is 1129533\n",
      "Average number of installs for BOOKS_AND_REFERENCE is 8318050\n",
      "Average number of installs for PHOTOGRAPHY is 30114172\n",
      "Average number of installs for ART_AND_DESIGN is 1912893\n",
      "\n",
      "Most popular app by category is recommendet for COMMUNICATION\n"
     ]
    }
   ],
   "source": [
    "freq_category = {}\n",
    "installs_per_category = {}\n",
    "freq_category = freq_table(google_apps_data[1:],1)\n",
    "\n",
    "for category in freq_category:\n",
    "    total = 0\n",
    "    len_category = 0\n",
    "    for row in google_apps_data[1:]:\n",
    "        genre_app = row[1]\n",
    "        if genre_app == category:\n",
    "            installs = row[5].replace(',','')\n",
    "            installs = installs.replace('+','')\n",
    "            total += float(installs)\n",
    "            len_category += 1\n",
    "    avg_rating = total / len_category\n",
    "    installs_per_category[category] = int(avg_rating)\n",
    "    print ('Average number of installs for',category,'is', int(avg_rating))\n",
    "    \n",
    "print ('\\nMost popular app by category is recommendet for', max(installs_per_category, key = installs_per_category.get))    "
   ]
  }
 ],
 "metadata": {
  "kernelspec": {
   "display_name": "Python 3",
   "language": "python",
   "name": "python3"
  },
  "language_info": {
   "codemirror_mode": {
    "name": "ipython",
    "version": 3
   },
   "file_extension": ".py",
   "mimetype": "text/x-python",
   "name": "python",
   "nbconvert_exporter": "python",
   "pygments_lexer": "ipython3",
   "version": "3.4.3"
  }
 },
 "nbformat": 4,
 "nbformat_minor": 2
}

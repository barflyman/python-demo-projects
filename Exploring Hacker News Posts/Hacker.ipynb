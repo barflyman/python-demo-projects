{
 "cells": [
  {
   "cell_type": "markdown",
   "metadata": {
    "collapsed": true
   },
   "source": [
    "# Analyzing Hacker Post News posts\n",
    "\n",
    "**We will analyze the tech site Hacker Post News for user behaviour regarding the comments on post.**"
   ]
  },
  {
   "cell_type": "code",
   "execution_count": 4,
   "metadata": {
    "collapsed": false
   },
   "outputs": [
    {
     "name": "stdout",
     "output_type": "stream",
     "text": [
      "[['id', 'title', 'url', 'num_points', 'num_comments', 'author', 'created_at'], ['12224879', 'Interactive Dynamic Video', 'http://www.interactivedynamicvideo.com/', '386', '52', 'ne0phyte', '8/4/2016 11:52'], ['10975351', 'How to Use Open Source and Shut the Fuck Up at the Same Time', 'http://hueniverse.com/2016/01/26/how-to-use-open-source-and-shut-the-fuck-up-at-the-same-time/', '39', '10', 'josep2', '1/26/2016 19:30'], ['11964716', \"Florida DJs May Face Felony for April Fools' Water Joke\", 'http://www.thewire.com/entertainment/2013/04/florida-djs-april-fools-water-joke/63798/', '2', '1', 'vezycash', '6/23/2016 22:20'], ['11919867', 'Technology ventures: From Idea to Enterprise', 'https://www.amazon.com/Technology-Ventures-Enterprise-Thomas-Byers/dp/0073523429', '3', '1', 'hswarna', '6/17/2016 0:01']]\n"
     ]
    }
   ],
   "source": [
    "# Read CSV file\n",
    "from csv import reader\n",
    "open_file = open(\"hacker_news.csv\")\n",
    "read_file = reader(open_file)\n",
    "hn = list(read_file)\n",
    "\n",
    "# Print first five rows of list\n",
    "print (hn[:5])\n"
   ]
  },
  {
   "cell_type": "code",
   "execution_count": 5,
   "metadata": {
    "collapsed": false
   },
   "outputs": [
    {
     "name": "stdout",
     "output_type": "stream",
     "text": [
      "['id', 'title', 'url', 'num_points', 'num_comments', 'author', 'created_at']\n",
      "[['12224879', 'Interactive Dynamic Video', 'http://www.interactivedynamicvideo.com/', '386', '52', 'ne0phyte', '8/4/2016 11:52'], ['10975351', 'How to Use Open Source and Shut the Fuck Up at the Same Time', 'http://hueniverse.com/2016/01/26/how-to-use-open-source-and-shut-the-fuck-up-at-the-same-time/', '39', '10', 'josep2', '1/26/2016 19:30'], ['11964716', \"Florida DJs May Face Felony for April Fools' Water Joke\", 'http://www.thewire.com/entertainment/2013/04/florida-djs-april-fools-water-joke/63798/', '2', '1', 'vezycash', '6/23/2016 22:20'], ['11919867', 'Technology ventures: From Idea to Enterprise', 'https://www.amazon.com/Technology-Ventures-Enterprise-Thomas-Byers/dp/0073523429', '3', '1', 'hswarna', '6/17/2016 0:01'], ['10301696', 'Note by Note: The Making of Steinway L1037 (2007)', 'http://www.nytimes.com/2007/11/07/movies/07stein.html?_r=0', '8', '2', 'walterbell', '9/30/2015 4:12']]\n"
     ]
    }
   ],
   "source": [
    "# Extract / remove the first row of data (headers)\n",
    "headers = hn[0]\n",
    "hn = hn[1:]\n",
    "print(headers)\n",
    "print(hn[:5])"
   ]
  },
  {
   "cell_type": "markdown",
   "metadata": {},
   "source": [
    "**We will filter our data for posts that begin with either Ask HN or Show HN.**"
   ]
  },
  {
   "cell_type": "code",
   "execution_count": 9,
   "metadata": {
    "collapsed": false
   },
   "outputs": [
    {
     "name": "stdout",
     "output_type": "stream",
     "text": [
      "1744 1162 11\n"
     ]
    }
   ],
   "source": [
    "ask_posts = []\n",
    "show_posts = []\n",
    "other_posts = []\n",
    "\n",
    "for row in hn:\n",
    "    title = row[1].lower()\n",
    "    if title.startswith('ask hn'):\n",
    "        ask_posts.append(row)\n",
    "    elif title.startswith('show hn'):\n",
    "        show_posts.append(row)\n",
    "    else:\n",
    "        other_posts.append(row)\n",
    "\n",
    "print(len(ask_posts), len(show_posts), len('other_posts'))"
   ]
  },
  {
   "cell_type": "markdown",
   "metadata": {},
   "source": [
    "**Next, let's determine if ask posts or show posts receive more comments on average.**"
   ]
  },
  {
   "cell_type": "code",
   "execution_count": 18,
   "metadata": {
    "collapsed": false
   },
   "outputs": [
    {
     "name": "stdout",
     "output_type": "stream",
     "text": [
      "Average number of ask comments: 14.038417431192661\n",
      "Average number of show comments: 10.31669535283993\n"
     ]
    }
   ],
   "source": [
    "# calculate the sum of all ask comments and print the AVG\n",
    "total_ask_comments = 0\n",
    "for comments in ask_posts:\n",
    "    total_ask_comments += int(comments[4])\n",
    "\n",
    "avg_ask_comments = total_ask_comments / len(ask_posts)\n",
    "print(\"Average number of ask comments:\", avg_ask_comments)\n",
    "\n",
    "# calculate the sum of all show comments and print the AVG\n",
    "total_show_comments = 0\n",
    "for comments in show_posts:\n",
    "    total_show_comments += int(comments[4])\n",
    "    \n",
    "avg_show_comments = total_show_comments / len(show_posts)\n",
    "print(\"Average number of show comments:\", avg_show_comments)"
   ]
  },
  {
   "cell_type": "markdown",
   "metadata": {},
   "source": [
    "** Conclusion: Their are more ask comments then show comments. People are more willing to help then to comment on ideas and news.**"
   ]
  },
  {
   "cell_type": "markdown",
   "metadata": {},
   "source": [
    "**Next, we'll determine if ask posts created at a certain time are more likely to attract comments.**"
   ]
  },
  {
   "cell_type": "code",
   "execution_count": 37,
   "metadata": {
    "collapsed": false
   },
   "outputs": [],
   "source": [
    "import datetime as dt\n",
    "result_list = []\n",
    "\n",
    "# Use a list of list for comments/time pairs\n",
    "for comments in ask_posts:\n",
    "    comments_list = []\n",
    "    comments_list.append(comments[6])\n",
    "    comments_list.append(int(comments[4]))\n",
    "    result_list.append(comments_list)\n",
    "    \n",
    "counts_by_hour = {}\n",
    "comments_by_hour = {}\n",
    "\n",
    "# Extract the hours from the list and count the comments / hour\n",
    "datetime_parse_format = \"%m/%d/%Y %H:%M\"\n",
    "for row in result_list:\n",
    "    datetimeobj = dt.datetime.strptime(row[0],datetime_parse_format)\n",
    "    hour = datetimeobj.strftime(\"%H\")\n",
    "    if hour not in counts_by_hour:\n",
    "        counts_by_hour[hour] = 1\n",
    "        comments_by_hour[hour] = row[1]\n",
    "    else:\n",
    "        counts_by_hour[hour] += 1\n",
    "        comments_by_hour[hour] += row[1]\n",
    "        \n",
    "      "
   ]
  },
  {
   "cell_type": "markdown",
   "metadata": {
    "collapsed": true
   },
   "source": [
    "**Calculation the average number of comments for posts created during each hour of the day.**"
   ]
  },
  {
   "cell_type": "code",
   "execution_count": 49,
   "metadata": {
    "collapsed": false
   },
   "outputs": [
    {
     "name": "stdout",
     "output_type": "stream",
     "text": [
      "[['10', 13.440677966101696], ['00', 8.127272727272727], ['23', 7.985294117647059], ['17', 11.46], ['20', 21.525], ['18', 13.20183486238532], ['22', 6.746478873239437], ['05', 10.08695652173913], ['13', 14.741176470588234], ['19', 10.8], ['11', 11.051724137931034], ['12', 9.41095890410959], ['21', 16.009174311926607], ['14', 13.233644859813085], ['08', 10.25], ['01', 11.383333333333333], ['04', 7.170212765957447], ['15', 38.5948275862069], ['06', 9.022727272727273], ['07', 7.852941176470588], ['03', 7.796296296296297], ['09', 5.5777777777777775], ['02', 23.810344827586206], ['16', 16.796296296296298]]\n"
     ]
    }
   ],
   "source": [
    "avg_by_hour = []\n",
    "\n",
    "# We use a list in list, where we use the comment key for both dictionaries to extract the comments/post on this specfic hour\n",
    "for comments in comments_by_hour:\n",
    "    avg_by_hour.append([comments, comments_by_hour[comments]/counts_by_hour[comments]])\n",
    "    \n",
    "print(avg_by_hour)    \n",
    "    "
   ]
  },
  {
   "cell_type": "markdown",
   "metadata": {},
   "source": [
    "**Let's finish by sorting the list of lists and printing the five highest values in a format that's easier to read.**"
   ]
  },
  {
   "cell_type": "code",
   "execution_count": 65,
   "metadata": {
    "collapsed": false
   },
   "outputs": [
    {
     "name": "stdout",
     "output_type": "stream",
     "text": [
      "[[13.440677966101696, '10'], [8.127272727272727, '00'], [7.985294117647059, '23'], [11.46, '17'], [21.525, '20'], [13.20183486238532, '18'], [6.746478873239437, '22'], [10.08695652173913, '05'], [14.741176470588234, '13'], [10.8, '19'], [11.051724137931034, '11'], [9.41095890410959, '12'], [16.009174311926607, '21'], [13.233644859813085, '14'], [10.25, '08'], [11.383333333333333, '01'], [7.170212765957447, '04'], [38.5948275862069, '15'], [9.022727272727273, '06'], [7.852941176470588, '07'], [7.796296296296297, '03'], [5.5777777777777775, '09'], [23.810344827586206, '02'], [16.796296296296298, '16']]\n",
      "\n",
      "Top 5 Hours for Ask Posts Comments\n",
      "\n",
      "15:00: 38.59 average comments\n",
      "02:00: 23.81 average comments\n",
      "20:00: 21.52 average comments\n",
      "16:00: 16.80 average comments\n",
      "21:00: 16.01 average comments\n",
      "13:00: 14.74 average comments\n",
      "10:00: 13.44 average comments\n",
      "14:00: 13.23 average comments\n",
      "18:00: 13.20 average comments\n",
      "17:00: 11.46 average comments\n",
      "01:00: 11.38 average comments\n",
      "11:00: 11.05 average comments\n",
      "19:00: 10.80 average comments\n",
      "08:00: 10.25 average comments\n",
      "05:00: 10.09 average comments\n",
      "12:00: 9.41 average comments\n",
      "06:00: 9.02 average comments\n",
      "00:00: 8.13 average comments\n",
      "23:00: 7.99 average comments\n",
      "07:00: 7.85 average comments\n",
      "03:00: 7.80 average comments\n",
      "04:00: 7.17 average comments\n",
      "22:00: 6.75 average comments\n",
      "09:00: 5.58 average comments\n"
     ]
    }
   ],
   "source": [
    "swap_avg_by_hour = []\n",
    "\n",
    "# Swapped list\n",
    "for row in avg_by_hour:\n",
    "    temp_list = []    \n",
    "    temp_list.append(row[1])\n",
    "    temp_list.append(row[0])\n",
    "    swap_avg_by_hour.append(temp_list)\n",
    "    \n",
    "print(swap_avg_by_hour)\n",
    "\n",
    "sorted_swap = sorted(swap_avg_by_hour, reverse = True)\n",
    "\n",
    "print(\"\\nTop 5 Hours for Ask Posts Comments\\n\")\n",
    "\n",
    "# extract comments (2-digit) and hours from the list for printing\n",
    "for row in sorted_swap:\n",
    "    date_obj = dt.datetime.strptime(row[1],\"%H\")\n",
    "    hour = date_obj.strftime(\"%H:%M\")\n",
    "    output = \"{date}: {comments:,.2f} average comments\".format(date = hour, comments = row[0])\n",
    "    print(output)    "
   ]
  },
  {
   "cell_type": "markdown",
   "metadata": {},
   "source": [
    "**Afternoon is the best time to create posting on HNP for receiving the hightest rate of comments.**"
   ]
  }
 ],
 "metadata": {
  "kernelspec": {
   "display_name": "Python 3",
   "language": "python",
   "name": "python3"
  },
  "language_info": {
   "codemirror_mode": {
    "name": "ipython",
    "version": 3
   },
   "file_extension": ".py",
   "mimetype": "text/x-python",
   "name": "python",
   "nbconvert_exporter": "python",
   "pygments_lexer": "ipython3",
   "version": "3.4.3"
  }
 },
 "nbformat": 4,
 "nbformat_minor": 2
}
